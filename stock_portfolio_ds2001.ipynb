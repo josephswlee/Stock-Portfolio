{
 "cells": [
  {
   "cell_type": "markdown",
   "id": "a5c4a7a9",
   "metadata": {},
   "source": [
    "# Group Project Outline"
   ]
  },
  {
   "cell_type": "markdown",
   "id": "8189fba9",
   "metadata": {},
   "source": [
    "## Objective: \n",
    "### Simulate one portfolio composed with top stocks in top industries (growth-wise), using historical stock return data, and measure its performance in aspects of the Sharp Ratio of the portfolio. \n",
    "\n",
    "## Steps: \n",
    "### Use historical stock price data to: \n",
    "#### 1. Compute one-month average returns of all the stocks in S&P 500 (say we use the historical 25 years data, then we have 25 x 12 = 300 monthly average returns on one stock. We don't want to use daily returns because thay may be too much data).\n",
    "\n",
    "#### 2. Use the average returns to do 500 regression models and find the slope of the regression line and store those slopes in one dataframe. By now, we have one corresponding number for one stock that represents the growth of the stock, higher the slope higher the return. \n",
    "\n",
    "#### 3. Catagorize the slope data we have into sectors (industries), and we can calculate the average of those slope numbers in each industry. This average may represent the overall trend of the slope (don't know if this make sense mathematically though). \n",
    "\n",
    "#### 4. Find the top five industries that have the highest average and build a correlation table. See if one industries growth has something to do with another industry's growth (we can also pick the industries that we think should have close correlation). \n",
    "\n",
    "#### 5. For the picked-up industries in #4, we pick five stocks that has the highest regression slope number and do a correlation table based on their historical return averages that we calculated in #1. \n",
    "\n",
    "#### 6. If possible, we can use the historical returns of those five stocks and calculate the CAPM beta between the selected stocks and the corresponsing industry (here, we can look at the homeword we did on CAPM beta, in that homework we calculated the beta of one stock to the whole market, but now we focus on the beta between the stock and its industry. Shouldn't be too hard cuz we already have the code). \n",
    "\n",
    "#### 7. If possible, we can use the historical returns of selected industries and calculate the CAPM beta between the selected industry to the whole market.\n",
    "\n",
    "#### 8. Simulate a portfolio with the top stocks in each sector and calculate the Sharp Ratio using their historical returns. (This shouldn't be hard cuz Sharp Ratio is one simple formula.)\n",
    "\n",
    "## Results\n",
    "#### We will discover the highest return industry, its correlation with other industries, and its beta with the market. \n",
    "#### We will discover the hottest stock in the top industries and their beta with their corresponding industries. \n",
    "#### We simulated one portofolio with stocks we picked up based on the regression slope (which represent the growth of the stock) and we will have different betas (between the stock and the industry, and between the industries and the market), and the Sharp Ratio of the portfolio. \n",
    "\n",
    "## Methods used: \n",
    "#### Regression (whish means visualization)\n",
    "#### Functions\n",
    "#### Class \n",
    "#### Maybe unittest to test classes \n",
    "#### Dataframe operations \n",
    "#### ...\n",
    "\n",
    "## Need to decide: \n",
    "#### Steps needed \n",
    "#### Methods needed\n",
    "#### If the math in the steps make sense\n",
    "#### Rephrase the Steps to make them clearer and more instructive for operational purposes\n",
    "#### ...\n"
   ]
  },
  {
   "cell_type": "markdown",
   "id": "466b5bb7",
   "metadata": {},
   "source": [
    "# Import Packages Needed"
   ]
  },
  {
   "cell_type": "code",
   "execution_count": 3,
   "id": "9adecef0",
   "metadata": {
    "tags": []
   },
   "outputs": [],
   "source": [
    "import pandas as pd\n",
    "import numpy as np\n",
    "import matplotlib as plt\n",
    "import seaborn as sns\n",
    "import yfinance as yf\n",
    "import pdb\n",
    "import math\n",
    "import scipy.stats as sp\n",
    "import statsmodels.api as sm\n",
    "import datetime as dt"
   ]
  },
  {
   "cell_type": "markdown",
   "id": "4241b6f8",
   "metadata": {},
   "source": [
    "# Clean Data"
   ]
  },
  {
   "cell_type": "code",
   "execution_count": 4,
   "id": "3bee297e",
   "metadata": {
    "tags": []
   },
   "outputs": [],
   "source": [
    "df = pd.read_csv('financials.csv')\n",
    "df1 = df['Symbol']"
   ]
  },
  {
   "cell_type": "code",
   "execution_count": 20,
   "id": "0d509ee0",
   "metadata": {
    "collapsed": true,
    "jupyter": {
     "outputs_hidden": true
    },
    "tags": []
   },
   "outputs": [
    {
     "name": "stdout",
     "output_type": "stream",
     "text": [
      "- AET: No data found for this date range, symbol may be delisted\n",
      "- ALXN: No data found, symbol may be delisted\n",
      "- AGN: No data found, symbol may be delisted\n",
      "- APC: No data found, symbol may be delisted\n",
      "- ANDV: No data found for this date range, symbol may be delisted\n",
      "- BHGE: No data found, symbol may be delisted\n",
      "- BBT: No data found, symbol may be delisted\n"
     ]
    },
    {
     "ename": "KeyboardInterrupt",
     "evalue": "",
     "output_type": "error",
     "traceback": [
      "\u001b[0;31m---------------------------------------------------------------------------\u001b[0m",
      "\u001b[0;31mKeyboardInterrupt\u001b[0m                         Traceback (most recent call last)",
      "\u001b[0;32m<ipython-input-20-48d68582093a>\u001b[0m in \u001b[0;36m<module>\u001b[0;34m\u001b[0m\n\u001b[1;32m      1\u001b[0m \u001b[0;32mfor\u001b[0m \u001b[0mi\u001b[0m \u001b[0;32min\u001b[0m \u001b[0msymbols\u001b[0m\u001b[0;34m:\u001b[0m\u001b[0;34m\u001b[0m\u001b[0;34m\u001b[0m\u001b[0m\n\u001b[1;32m      2\u001b[0m     \u001b[0mmyticker\u001b[0m \u001b[0;34m=\u001b[0m \u001b[0myf\u001b[0m\u001b[0;34m.\u001b[0m\u001b[0mTicker\u001b[0m\u001b[0;34m(\u001b[0m\u001b[0mi\u001b[0m\u001b[0;34m)\u001b[0m\u001b[0;34m\u001b[0m\u001b[0;34m\u001b[0m\u001b[0m\n\u001b[0;32m----> 3\u001b[0;31m     \u001b[0mhistory\u001b[0m \u001b[0;34m=\u001b[0m \u001b[0mmyticker\u001b[0m\u001b[0;34m.\u001b[0m\u001b[0mhistory\u001b[0m\u001b[0;34m(\u001b[0m\u001b[0;34m)\u001b[0m\u001b[0;34m\u001b[0m\u001b[0;34m\u001b[0m\u001b[0m\n\u001b[0m",
      "\u001b[0;32m/opt/anaconda3/lib/python3.8/site-packages/yfinance/base.py\u001b[0m in \u001b[0;36mhistory\u001b[0;34m(self, period, interval, start, end, prepost, actions, auto_adjust, back_adjust, proxy, rounding, tz, **kwargs)\u001b[0m\n\u001b[1;32m    150\u001b[0m         \u001b[0;31m# Getting data from json\u001b[0m\u001b[0;34m\u001b[0m\u001b[0;34m\u001b[0m\u001b[0;34m\u001b[0m\u001b[0m\n\u001b[1;32m    151\u001b[0m         \u001b[0murl\u001b[0m \u001b[0;34m=\u001b[0m \u001b[0;34m\"{}/v8/finance/chart/{}\"\u001b[0m\u001b[0;34m.\u001b[0m\u001b[0mformat\u001b[0m\u001b[0;34m(\u001b[0m\u001b[0mself\u001b[0m\u001b[0;34m.\u001b[0m\u001b[0m_base_url\u001b[0m\u001b[0;34m,\u001b[0m \u001b[0mself\u001b[0m\u001b[0;34m.\u001b[0m\u001b[0mticker\u001b[0m\u001b[0;34m)\u001b[0m\u001b[0;34m\u001b[0m\u001b[0;34m\u001b[0m\u001b[0m\n\u001b[0;32m--> 152\u001b[0;31m         data = self.session.get(\n\u001b[0m\u001b[1;32m    153\u001b[0m             \u001b[0murl\u001b[0m\u001b[0;34m=\u001b[0m\u001b[0murl\u001b[0m\u001b[0;34m,\u001b[0m\u001b[0;34m\u001b[0m\u001b[0;34m\u001b[0m\u001b[0m\n\u001b[1;32m    154\u001b[0m             \u001b[0mparams\u001b[0m\u001b[0;34m=\u001b[0m\u001b[0mparams\u001b[0m\u001b[0;34m,\u001b[0m\u001b[0;34m\u001b[0m\u001b[0;34m\u001b[0m\u001b[0m\n",
      "\u001b[0;32m/opt/anaconda3/lib/python3.8/site-packages/requests/api.py\u001b[0m in \u001b[0;36mget\u001b[0;34m(url, params, **kwargs)\u001b[0m\n\u001b[1;32m     74\u001b[0m \u001b[0;34m\u001b[0m\u001b[0m\n\u001b[1;32m     75\u001b[0m     \u001b[0mkwargs\u001b[0m\u001b[0;34m.\u001b[0m\u001b[0msetdefault\u001b[0m\u001b[0;34m(\u001b[0m\u001b[0;34m'allow_redirects'\u001b[0m\u001b[0;34m,\u001b[0m \u001b[0;32mTrue\u001b[0m\u001b[0;34m)\u001b[0m\u001b[0;34m\u001b[0m\u001b[0;34m\u001b[0m\u001b[0m\n\u001b[0;32m---> 76\u001b[0;31m     \u001b[0;32mreturn\u001b[0m \u001b[0mrequest\u001b[0m\u001b[0;34m(\u001b[0m\u001b[0;34m'get'\u001b[0m\u001b[0;34m,\u001b[0m \u001b[0murl\u001b[0m\u001b[0;34m,\u001b[0m \u001b[0mparams\u001b[0m\u001b[0;34m=\u001b[0m\u001b[0mparams\u001b[0m\u001b[0;34m,\u001b[0m \u001b[0;34m**\u001b[0m\u001b[0mkwargs\u001b[0m\u001b[0;34m)\u001b[0m\u001b[0;34m\u001b[0m\u001b[0;34m\u001b[0m\u001b[0m\n\u001b[0m\u001b[1;32m     77\u001b[0m \u001b[0;34m\u001b[0m\u001b[0m\n\u001b[1;32m     78\u001b[0m \u001b[0;34m\u001b[0m\u001b[0m\n",
      "\u001b[0;32m/opt/anaconda3/lib/python3.8/site-packages/requests/api.py\u001b[0m in \u001b[0;36mrequest\u001b[0;34m(method, url, **kwargs)\u001b[0m\n\u001b[1;32m     59\u001b[0m     \u001b[0;31m# cases, and look like a memory leak in others.\u001b[0m\u001b[0;34m\u001b[0m\u001b[0;34m\u001b[0m\u001b[0;34m\u001b[0m\u001b[0m\n\u001b[1;32m     60\u001b[0m     \u001b[0;32mwith\u001b[0m \u001b[0msessions\u001b[0m\u001b[0;34m.\u001b[0m\u001b[0mSession\u001b[0m\u001b[0;34m(\u001b[0m\u001b[0;34m)\u001b[0m \u001b[0;32mas\u001b[0m \u001b[0msession\u001b[0m\u001b[0;34m:\u001b[0m\u001b[0;34m\u001b[0m\u001b[0;34m\u001b[0m\u001b[0m\n\u001b[0;32m---> 61\u001b[0;31m         \u001b[0;32mreturn\u001b[0m \u001b[0msession\u001b[0m\u001b[0;34m.\u001b[0m\u001b[0mrequest\u001b[0m\u001b[0;34m(\u001b[0m\u001b[0mmethod\u001b[0m\u001b[0;34m=\u001b[0m\u001b[0mmethod\u001b[0m\u001b[0;34m,\u001b[0m \u001b[0murl\u001b[0m\u001b[0;34m=\u001b[0m\u001b[0murl\u001b[0m\u001b[0;34m,\u001b[0m \u001b[0;34m**\u001b[0m\u001b[0mkwargs\u001b[0m\u001b[0;34m)\u001b[0m\u001b[0;34m\u001b[0m\u001b[0;34m\u001b[0m\u001b[0m\n\u001b[0m\u001b[1;32m     62\u001b[0m \u001b[0;34m\u001b[0m\u001b[0m\n\u001b[1;32m     63\u001b[0m \u001b[0;34m\u001b[0m\u001b[0m\n",
      "\u001b[0;32m/opt/anaconda3/lib/python3.8/site-packages/requests/sessions.py\u001b[0m in \u001b[0;36mrequest\u001b[0;34m(self, method, url, params, data, headers, cookies, files, auth, timeout, allow_redirects, proxies, hooks, stream, verify, cert, json)\u001b[0m\n\u001b[1;32m    540\u001b[0m         }\n\u001b[1;32m    541\u001b[0m         \u001b[0msend_kwargs\u001b[0m\u001b[0;34m.\u001b[0m\u001b[0mupdate\u001b[0m\u001b[0;34m(\u001b[0m\u001b[0msettings\u001b[0m\u001b[0;34m)\u001b[0m\u001b[0;34m\u001b[0m\u001b[0;34m\u001b[0m\u001b[0m\n\u001b[0;32m--> 542\u001b[0;31m         \u001b[0mresp\u001b[0m \u001b[0;34m=\u001b[0m \u001b[0mself\u001b[0m\u001b[0;34m.\u001b[0m\u001b[0msend\u001b[0m\u001b[0;34m(\u001b[0m\u001b[0mprep\u001b[0m\u001b[0;34m,\u001b[0m \u001b[0;34m**\u001b[0m\u001b[0msend_kwargs\u001b[0m\u001b[0;34m)\u001b[0m\u001b[0;34m\u001b[0m\u001b[0;34m\u001b[0m\u001b[0m\n\u001b[0m\u001b[1;32m    543\u001b[0m \u001b[0;34m\u001b[0m\u001b[0m\n\u001b[1;32m    544\u001b[0m         \u001b[0;32mreturn\u001b[0m \u001b[0mresp\u001b[0m\u001b[0;34m\u001b[0m\u001b[0;34m\u001b[0m\u001b[0m\n",
      "\u001b[0;32m/opt/anaconda3/lib/python3.8/site-packages/requests/sessions.py\u001b[0m in \u001b[0;36msend\u001b[0;34m(self, request, **kwargs)\u001b[0m\n\u001b[1;32m    653\u001b[0m \u001b[0;34m\u001b[0m\u001b[0m\n\u001b[1;32m    654\u001b[0m         \u001b[0;31m# Send the request\u001b[0m\u001b[0;34m\u001b[0m\u001b[0;34m\u001b[0m\u001b[0;34m\u001b[0m\u001b[0m\n\u001b[0;32m--> 655\u001b[0;31m         \u001b[0mr\u001b[0m \u001b[0;34m=\u001b[0m \u001b[0madapter\u001b[0m\u001b[0;34m.\u001b[0m\u001b[0msend\u001b[0m\u001b[0;34m(\u001b[0m\u001b[0mrequest\u001b[0m\u001b[0;34m,\u001b[0m \u001b[0;34m**\u001b[0m\u001b[0mkwargs\u001b[0m\u001b[0;34m)\u001b[0m\u001b[0;34m\u001b[0m\u001b[0;34m\u001b[0m\u001b[0m\n\u001b[0m\u001b[1;32m    656\u001b[0m \u001b[0;34m\u001b[0m\u001b[0m\n\u001b[1;32m    657\u001b[0m         \u001b[0;31m# Total elapsed time of the request (approximately)\u001b[0m\u001b[0;34m\u001b[0m\u001b[0;34m\u001b[0m\u001b[0;34m\u001b[0m\u001b[0m\n",
      "\u001b[0;32m/opt/anaconda3/lib/python3.8/site-packages/requests/adapters.py\u001b[0m in \u001b[0;36msend\u001b[0;34m(self, request, stream, timeout, verify, cert, proxies)\u001b[0m\n\u001b[1;32m    437\u001b[0m         \u001b[0;32mtry\u001b[0m\u001b[0;34m:\u001b[0m\u001b[0;34m\u001b[0m\u001b[0;34m\u001b[0m\u001b[0m\n\u001b[1;32m    438\u001b[0m             \u001b[0;32mif\u001b[0m \u001b[0;32mnot\u001b[0m \u001b[0mchunked\u001b[0m\u001b[0;34m:\u001b[0m\u001b[0;34m\u001b[0m\u001b[0;34m\u001b[0m\u001b[0m\n\u001b[0;32m--> 439\u001b[0;31m                 resp = conn.urlopen(\n\u001b[0m\u001b[1;32m    440\u001b[0m                     \u001b[0mmethod\u001b[0m\u001b[0;34m=\u001b[0m\u001b[0mrequest\u001b[0m\u001b[0;34m.\u001b[0m\u001b[0mmethod\u001b[0m\u001b[0;34m,\u001b[0m\u001b[0;34m\u001b[0m\u001b[0;34m\u001b[0m\u001b[0m\n\u001b[1;32m    441\u001b[0m                     \u001b[0murl\u001b[0m\u001b[0;34m=\u001b[0m\u001b[0murl\u001b[0m\u001b[0;34m,\u001b[0m\u001b[0;34m\u001b[0m\u001b[0;34m\u001b[0m\u001b[0m\n",
      "\u001b[0;32m/opt/anaconda3/lib/python3.8/site-packages/urllib3/connectionpool.py\u001b[0m in \u001b[0;36murlopen\u001b[0;34m(self, method, url, body, headers, retries, redirect, assert_same_host, timeout, pool_timeout, release_conn, chunked, body_pos, **response_kw)\u001b[0m\n\u001b[1;32m    697\u001b[0m \u001b[0;34m\u001b[0m\u001b[0m\n\u001b[1;32m    698\u001b[0m             \u001b[0;31m# Make the request on the httplib connection object.\u001b[0m\u001b[0;34m\u001b[0m\u001b[0;34m\u001b[0m\u001b[0;34m\u001b[0m\u001b[0m\n\u001b[0;32m--> 699\u001b[0;31m             httplib_response = self._make_request(\n\u001b[0m\u001b[1;32m    700\u001b[0m                 \u001b[0mconn\u001b[0m\u001b[0;34m,\u001b[0m\u001b[0;34m\u001b[0m\u001b[0;34m\u001b[0m\u001b[0m\n\u001b[1;32m    701\u001b[0m                 \u001b[0mmethod\u001b[0m\u001b[0;34m,\u001b[0m\u001b[0;34m\u001b[0m\u001b[0;34m\u001b[0m\u001b[0m\n",
      "\u001b[0;32m/opt/anaconda3/lib/python3.8/site-packages/urllib3/connectionpool.py\u001b[0m in \u001b[0;36m_make_request\u001b[0;34m(self, conn, method, url, timeout, chunked, **httplib_request_kw)\u001b[0m\n\u001b[1;32m    443\u001b[0m                     \u001b[0;31m# Python 3 (including for exceptions like SystemExit).\u001b[0m\u001b[0;34m\u001b[0m\u001b[0;34m\u001b[0m\u001b[0;34m\u001b[0m\u001b[0m\n\u001b[1;32m    444\u001b[0m                     \u001b[0;31m# Otherwise it looks like a bug in the code.\u001b[0m\u001b[0;34m\u001b[0m\u001b[0;34m\u001b[0m\u001b[0;34m\u001b[0m\u001b[0m\n\u001b[0;32m--> 445\u001b[0;31m                     \u001b[0msix\u001b[0m\u001b[0;34m.\u001b[0m\u001b[0mraise_from\u001b[0m\u001b[0;34m(\u001b[0m\u001b[0me\u001b[0m\u001b[0;34m,\u001b[0m \u001b[0;32mNone\u001b[0m\u001b[0;34m)\u001b[0m\u001b[0;34m\u001b[0m\u001b[0;34m\u001b[0m\u001b[0m\n\u001b[0m\u001b[1;32m    446\u001b[0m         \u001b[0;32mexcept\u001b[0m \u001b[0;34m(\u001b[0m\u001b[0mSocketTimeout\u001b[0m\u001b[0;34m,\u001b[0m \u001b[0mBaseSSLError\u001b[0m\u001b[0;34m,\u001b[0m \u001b[0mSocketError\u001b[0m\u001b[0;34m)\u001b[0m \u001b[0;32mas\u001b[0m \u001b[0me\u001b[0m\u001b[0;34m:\u001b[0m\u001b[0;34m\u001b[0m\u001b[0;34m\u001b[0m\u001b[0m\n\u001b[1;32m    447\u001b[0m             \u001b[0mself\u001b[0m\u001b[0;34m.\u001b[0m\u001b[0m_raise_timeout\u001b[0m\u001b[0;34m(\u001b[0m\u001b[0merr\u001b[0m\u001b[0;34m=\u001b[0m\u001b[0me\u001b[0m\u001b[0;34m,\u001b[0m \u001b[0murl\u001b[0m\u001b[0;34m=\u001b[0m\u001b[0murl\u001b[0m\u001b[0;34m,\u001b[0m \u001b[0mtimeout_value\u001b[0m\u001b[0;34m=\u001b[0m\u001b[0mread_timeout\u001b[0m\u001b[0;34m)\u001b[0m\u001b[0;34m\u001b[0m\u001b[0;34m\u001b[0m\u001b[0m\n",
      "\u001b[0;32m/opt/anaconda3/lib/python3.8/site-packages/urllib3/packages/six.py\u001b[0m in \u001b[0;36mraise_from\u001b[0;34m(value, from_value)\u001b[0m\n",
      "\u001b[0;32m/opt/anaconda3/lib/python3.8/site-packages/urllib3/connectionpool.py\u001b[0m in \u001b[0;36m_make_request\u001b[0;34m(self, conn, method, url, timeout, chunked, **httplib_request_kw)\u001b[0m\n\u001b[1;32m    438\u001b[0m                 \u001b[0;31m# Python 3\u001b[0m\u001b[0;34m\u001b[0m\u001b[0;34m\u001b[0m\u001b[0;34m\u001b[0m\u001b[0m\n\u001b[1;32m    439\u001b[0m                 \u001b[0;32mtry\u001b[0m\u001b[0;34m:\u001b[0m\u001b[0;34m\u001b[0m\u001b[0;34m\u001b[0m\u001b[0m\n\u001b[0;32m--> 440\u001b[0;31m                     \u001b[0mhttplib_response\u001b[0m \u001b[0;34m=\u001b[0m \u001b[0mconn\u001b[0m\u001b[0;34m.\u001b[0m\u001b[0mgetresponse\u001b[0m\u001b[0;34m(\u001b[0m\u001b[0;34m)\u001b[0m\u001b[0;34m\u001b[0m\u001b[0;34m\u001b[0m\u001b[0m\n\u001b[0m\u001b[1;32m    441\u001b[0m                 \u001b[0;32mexcept\u001b[0m \u001b[0mBaseException\u001b[0m \u001b[0;32mas\u001b[0m \u001b[0me\u001b[0m\u001b[0;34m:\u001b[0m\u001b[0;34m\u001b[0m\u001b[0;34m\u001b[0m\u001b[0m\n\u001b[1;32m    442\u001b[0m                     \u001b[0;31m# Remove the TypeError from the exception chain in\u001b[0m\u001b[0;34m\u001b[0m\u001b[0;34m\u001b[0m\u001b[0;34m\u001b[0m\u001b[0m\n",
      "\u001b[0;32m/opt/anaconda3/lib/python3.8/http/client.py\u001b[0m in \u001b[0;36mgetresponse\u001b[0;34m(self)\u001b[0m\n\u001b[1;32m   1345\u001b[0m         \u001b[0;32mtry\u001b[0m\u001b[0;34m:\u001b[0m\u001b[0;34m\u001b[0m\u001b[0;34m\u001b[0m\u001b[0m\n\u001b[1;32m   1346\u001b[0m             \u001b[0;32mtry\u001b[0m\u001b[0;34m:\u001b[0m\u001b[0;34m\u001b[0m\u001b[0;34m\u001b[0m\u001b[0m\n\u001b[0;32m-> 1347\u001b[0;31m                 \u001b[0mresponse\u001b[0m\u001b[0;34m.\u001b[0m\u001b[0mbegin\u001b[0m\u001b[0;34m(\u001b[0m\u001b[0;34m)\u001b[0m\u001b[0;34m\u001b[0m\u001b[0;34m\u001b[0m\u001b[0m\n\u001b[0m\u001b[1;32m   1348\u001b[0m             \u001b[0;32mexcept\u001b[0m \u001b[0mConnectionError\u001b[0m\u001b[0;34m:\u001b[0m\u001b[0;34m\u001b[0m\u001b[0;34m\u001b[0m\u001b[0m\n\u001b[1;32m   1349\u001b[0m                 \u001b[0mself\u001b[0m\u001b[0;34m.\u001b[0m\u001b[0mclose\u001b[0m\u001b[0;34m(\u001b[0m\u001b[0;34m)\u001b[0m\u001b[0;34m\u001b[0m\u001b[0;34m\u001b[0m\u001b[0m\n",
      "\u001b[0;32m/opt/anaconda3/lib/python3.8/http/client.py\u001b[0m in \u001b[0;36mbegin\u001b[0;34m(self)\u001b[0m\n\u001b[1;32m    305\u001b[0m         \u001b[0;31m# read until we get a non-100 response\u001b[0m\u001b[0;34m\u001b[0m\u001b[0;34m\u001b[0m\u001b[0;34m\u001b[0m\u001b[0m\n\u001b[1;32m    306\u001b[0m         \u001b[0;32mwhile\u001b[0m \u001b[0;32mTrue\u001b[0m\u001b[0;34m:\u001b[0m\u001b[0;34m\u001b[0m\u001b[0;34m\u001b[0m\u001b[0m\n\u001b[0;32m--> 307\u001b[0;31m             \u001b[0mversion\u001b[0m\u001b[0;34m,\u001b[0m \u001b[0mstatus\u001b[0m\u001b[0;34m,\u001b[0m \u001b[0mreason\u001b[0m \u001b[0;34m=\u001b[0m \u001b[0mself\u001b[0m\u001b[0;34m.\u001b[0m\u001b[0m_read_status\u001b[0m\u001b[0;34m(\u001b[0m\u001b[0;34m)\u001b[0m\u001b[0;34m\u001b[0m\u001b[0;34m\u001b[0m\u001b[0m\n\u001b[0m\u001b[1;32m    308\u001b[0m             \u001b[0;32mif\u001b[0m \u001b[0mstatus\u001b[0m \u001b[0;34m!=\u001b[0m \u001b[0mCONTINUE\u001b[0m\u001b[0;34m:\u001b[0m\u001b[0;34m\u001b[0m\u001b[0;34m\u001b[0m\u001b[0m\n\u001b[1;32m    309\u001b[0m                 \u001b[0;32mbreak\u001b[0m\u001b[0;34m\u001b[0m\u001b[0;34m\u001b[0m\u001b[0m\n",
      "\u001b[0;32m/opt/anaconda3/lib/python3.8/http/client.py\u001b[0m in \u001b[0;36m_read_status\u001b[0;34m(self)\u001b[0m\n\u001b[1;32m    266\u001b[0m \u001b[0;34m\u001b[0m\u001b[0m\n\u001b[1;32m    267\u001b[0m     \u001b[0;32mdef\u001b[0m \u001b[0m_read_status\u001b[0m\u001b[0;34m(\u001b[0m\u001b[0mself\u001b[0m\u001b[0;34m)\u001b[0m\u001b[0;34m:\u001b[0m\u001b[0;34m\u001b[0m\u001b[0;34m\u001b[0m\u001b[0m\n\u001b[0;32m--> 268\u001b[0;31m         \u001b[0mline\u001b[0m \u001b[0;34m=\u001b[0m \u001b[0mstr\u001b[0m\u001b[0;34m(\u001b[0m\u001b[0mself\u001b[0m\u001b[0;34m.\u001b[0m\u001b[0mfp\u001b[0m\u001b[0;34m.\u001b[0m\u001b[0mreadline\u001b[0m\u001b[0;34m(\u001b[0m\u001b[0m_MAXLINE\u001b[0m \u001b[0;34m+\u001b[0m \u001b[0;36m1\u001b[0m\u001b[0;34m)\u001b[0m\u001b[0;34m,\u001b[0m \u001b[0;34m\"iso-8859-1\"\u001b[0m\u001b[0;34m)\u001b[0m\u001b[0;34m\u001b[0m\u001b[0;34m\u001b[0m\u001b[0m\n\u001b[0m\u001b[1;32m    269\u001b[0m         \u001b[0;32mif\u001b[0m \u001b[0mlen\u001b[0m\u001b[0;34m(\u001b[0m\u001b[0mline\u001b[0m\u001b[0;34m)\u001b[0m \u001b[0;34m>\u001b[0m \u001b[0m_MAXLINE\u001b[0m\u001b[0;34m:\u001b[0m\u001b[0;34m\u001b[0m\u001b[0;34m\u001b[0m\u001b[0m\n\u001b[1;32m    270\u001b[0m             \u001b[0;32mraise\u001b[0m \u001b[0mLineTooLong\u001b[0m\u001b[0;34m(\u001b[0m\u001b[0;34m\"status line\"\u001b[0m\u001b[0;34m)\u001b[0m\u001b[0;34m\u001b[0m\u001b[0;34m\u001b[0m\u001b[0m\n",
      "\u001b[0;32m/opt/anaconda3/lib/python3.8/socket.py\u001b[0m in \u001b[0;36mreadinto\u001b[0;34m(self, b)\u001b[0m\n\u001b[1;32m    667\u001b[0m         \u001b[0;32mwhile\u001b[0m \u001b[0;32mTrue\u001b[0m\u001b[0;34m:\u001b[0m\u001b[0;34m\u001b[0m\u001b[0;34m\u001b[0m\u001b[0m\n\u001b[1;32m    668\u001b[0m             \u001b[0;32mtry\u001b[0m\u001b[0;34m:\u001b[0m\u001b[0;34m\u001b[0m\u001b[0;34m\u001b[0m\u001b[0m\n\u001b[0;32m--> 669\u001b[0;31m                 \u001b[0;32mreturn\u001b[0m \u001b[0mself\u001b[0m\u001b[0;34m.\u001b[0m\u001b[0m_sock\u001b[0m\u001b[0;34m.\u001b[0m\u001b[0mrecv_into\u001b[0m\u001b[0;34m(\u001b[0m\u001b[0mb\u001b[0m\u001b[0;34m)\u001b[0m\u001b[0;34m\u001b[0m\u001b[0;34m\u001b[0m\u001b[0m\n\u001b[0m\u001b[1;32m    670\u001b[0m             \u001b[0;32mexcept\u001b[0m \u001b[0mtimeout\u001b[0m\u001b[0;34m:\u001b[0m\u001b[0;34m\u001b[0m\u001b[0;34m\u001b[0m\u001b[0m\n\u001b[1;32m    671\u001b[0m                 \u001b[0mself\u001b[0m\u001b[0;34m.\u001b[0m\u001b[0m_timeout_occurred\u001b[0m \u001b[0;34m=\u001b[0m \u001b[0;32mTrue\u001b[0m\u001b[0;34m\u001b[0m\u001b[0;34m\u001b[0m\u001b[0m\n",
      "\u001b[0;32m/opt/anaconda3/lib/python3.8/ssl.py\u001b[0m in \u001b[0;36mrecv_into\u001b[0;34m(self, buffer, nbytes, flags)\u001b[0m\n\u001b[1;32m   1239\u001b[0m                   \u001b[0;34m\"non-zero flags not allowed in calls to recv_into() on %s\"\u001b[0m \u001b[0;34m%\u001b[0m\u001b[0;34m\u001b[0m\u001b[0;34m\u001b[0m\u001b[0m\n\u001b[1;32m   1240\u001b[0m                   self.__class__)\n\u001b[0;32m-> 1241\u001b[0;31m             \u001b[0;32mreturn\u001b[0m \u001b[0mself\u001b[0m\u001b[0;34m.\u001b[0m\u001b[0mread\u001b[0m\u001b[0;34m(\u001b[0m\u001b[0mnbytes\u001b[0m\u001b[0;34m,\u001b[0m \u001b[0mbuffer\u001b[0m\u001b[0;34m)\u001b[0m\u001b[0;34m\u001b[0m\u001b[0;34m\u001b[0m\u001b[0m\n\u001b[0m\u001b[1;32m   1242\u001b[0m         \u001b[0;32melse\u001b[0m\u001b[0;34m:\u001b[0m\u001b[0;34m\u001b[0m\u001b[0;34m\u001b[0m\u001b[0m\n\u001b[1;32m   1243\u001b[0m             \u001b[0;32mreturn\u001b[0m \u001b[0msuper\u001b[0m\u001b[0;34m(\u001b[0m\u001b[0;34m)\u001b[0m\u001b[0;34m.\u001b[0m\u001b[0mrecv_into\u001b[0m\u001b[0;34m(\u001b[0m\u001b[0mbuffer\u001b[0m\u001b[0;34m,\u001b[0m \u001b[0mnbytes\u001b[0m\u001b[0;34m,\u001b[0m \u001b[0mflags\u001b[0m\u001b[0;34m)\u001b[0m\u001b[0;34m\u001b[0m\u001b[0;34m\u001b[0m\u001b[0m\n",
      "\u001b[0;32m/opt/anaconda3/lib/python3.8/ssl.py\u001b[0m in \u001b[0;36mread\u001b[0;34m(self, len, buffer)\u001b[0m\n\u001b[1;32m   1097\u001b[0m         \u001b[0;32mtry\u001b[0m\u001b[0;34m:\u001b[0m\u001b[0;34m\u001b[0m\u001b[0;34m\u001b[0m\u001b[0m\n\u001b[1;32m   1098\u001b[0m             \u001b[0;32mif\u001b[0m \u001b[0mbuffer\u001b[0m \u001b[0;32mis\u001b[0m \u001b[0;32mnot\u001b[0m \u001b[0;32mNone\u001b[0m\u001b[0;34m:\u001b[0m\u001b[0;34m\u001b[0m\u001b[0;34m\u001b[0m\u001b[0m\n\u001b[0;32m-> 1099\u001b[0;31m                 \u001b[0;32mreturn\u001b[0m \u001b[0mself\u001b[0m\u001b[0;34m.\u001b[0m\u001b[0m_sslobj\u001b[0m\u001b[0;34m.\u001b[0m\u001b[0mread\u001b[0m\u001b[0;34m(\u001b[0m\u001b[0mlen\u001b[0m\u001b[0;34m,\u001b[0m \u001b[0mbuffer\u001b[0m\u001b[0;34m)\u001b[0m\u001b[0;34m\u001b[0m\u001b[0;34m\u001b[0m\u001b[0m\n\u001b[0m\u001b[1;32m   1100\u001b[0m             \u001b[0;32melse\u001b[0m\u001b[0;34m:\u001b[0m\u001b[0;34m\u001b[0m\u001b[0;34m\u001b[0m\u001b[0m\n\u001b[1;32m   1101\u001b[0m                 \u001b[0;32mreturn\u001b[0m \u001b[0mself\u001b[0m\u001b[0;34m.\u001b[0m\u001b[0m_sslobj\u001b[0m\u001b[0;34m.\u001b[0m\u001b[0mread\u001b[0m\u001b[0;34m(\u001b[0m\u001b[0mlen\u001b[0m\u001b[0;34m)\u001b[0m\u001b[0;34m\u001b[0m\u001b[0;34m\u001b[0m\u001b[0m\n",
      "\u001b[0;31mKeyboardInterrupt\u001b[0m: "
     ]
    }
   ],
   "source": [
    "for i in df1: \n",
    "    myticker = yf.Ticker(i)\n",
    "    history = myticker.history()"
   ]
  },
  {
   "cell_type": "code",
   "execution_count": 5,
   "id": "9bbef965",
   "metadata": {},
   "outputs": [],
   "source": [
    "missing = ('AET', 'ALXN', 'AGN', 'ARNC', 'APC','ANDV','BHGE','BBT','BRK.B','BF.B','CHK','CA','CBG','CBS','CELG','CTL','XEC','CXO','CSRA','DWDP','DPS','ETFC','EVHC','ESRX','FLIR','GGP','HRS','HCP','JEC','LB','LUK','KORS','MYL','NFX','NBL','PCLN','RTN','RHT','COL','SCG','SNI','STI','SYMC','TIF','TWX','TMK','TSS','UTX','VAR','VIAB','HCN','WYN')"
   ]
  },
  {
   "cell_type": "code",
   "execution_count": 8,
   "id": "4ee0be10",
   "metadata": {
    "tags": []
   },
   "outputs": [],
   "source": [
    "df = df.set_index('Symbol')\n",
    "for i in missing:\n",
    "    df=df.drop(index=i)\n",
    "sp500 = df.reset_index()"
   ]
  },
  {
   "cell_type": "code",
   "execution_count": 9,
   "id": "d6eb33fb",
   "metadata": {},
   "outputs": [],
   "source": [
    "tickers = sp500['Symbol']\n",
    "industries = sp500['Sector'].unique()\n",
    "df_industry = pd.DataFrame(industries)\n",
    "df_industry.columns = (['Industries'])"
   ]
  },
  {
   "cell_type": "code",
   "execution_count": 10,
   "id": "590b521b",
   "metadata": {
    "tags": []
   },
   "outputs": [
    {
     "ename": "NameError",
     "evalue": "name 'symbols' is not defined",
     "output_type": "error",
     "traceback": [
      "\u001b[0;31m---------------------------------------------------------------------------\u001b[0m",
      "\u001b[0;31mNameError\u001b[0m                                 Traceback (most recent call last)",
      "\u001b[0;32m/var/folders/d5/gxwrskh555z93r8slq5n8jh80000gn/T/ipykernel_25924/4240166692.py\u001b[0m in \u001b[0;36m<module>\u001b[0;34m\u001b[0m\n\u001b[0;32m----> 1\u001b[0;31m \u001b[0mtotal_length\u001b[0m \u001b[0;34m=\u001b[0m \u001b[0mlen\u001b[0m\u001b[0;34m(\u001b[0m\u001b[0msymbols\u001b[0m\u001b[0;34m)\u001b[0m\u001b[0;34m\u001b[0m\u001b[0;34m\u001b[0m\u001b[0m\n\u001b[0m\u001b[1;32m      2\u001b[0m \u001b[0;32mfor\u001b[0m \u001b[0mi\u001b[0m \u001b[0;32min\u001b[0m \u001b[0msymbols\u001b[0m\u001b[0;34m:\u001b[0m\u001b[0;34m\u001b[0m\u001b[0;34m\u001b[0m\u001b[0m\n\u001b[1;32m      3\u001b[0m     \u001b[0mmy_index\u001b[0m \u001b[0;34m=\u001b[0m \u001b[0msymbols\u001b[0m\u001b[0;34m.\u001b[0m\u001b[0mtolist\u001b[0m\u001b[0;34m(\u001b[0m\u001b[0;34m)\u001b[0m\u001b[0;34m.\u001b[0m\u001b[0mindex\u001b[0m\u001b[0;34m(\u001b[0m\u001b[0mi\u001b[0m\u001b[0;34m)\u001b[0m\u001b[0;34m\u001b[0m\u001b[0;34m\u001b[0m\u001b[0m\n\u001b[1;32m      4\u001b[0m     \u001b[0mdata\u001b[0m \u001b[0;34m=\u001b[0m \u001b[0;34m[\u001b[0m\u001b[0;34m]\u001b[0m\u001b[0;34m\u001b[0m\u001b[0;34m\u001b[0m\u001b[0m\n\u001b[1;32m      5\u001b[0m     \u001b[0mticker\u001b[0m \u001b[0;34m=\u001b[0m \u001b[0myf\u001b[0m\u001b[0;34m.\u001b[0m\u001b[0mTicker\u001b[0m\u001b[0;34m(\u001b[0m\u001b[0mi\u001b[0m\u001b[0;34m)\u001b[0m\u001b[0;34m\u001b[0m\u001b[0;34m\u001b[0m\u001b[0m\n",
      "\u001b[0;31mNameError\u001b[0m: name 'symbols' is not defined"
     ]
    }
   ],
   "source": [
    "total_length = len(symbols)\n",
    "for i in symbols:\n",
    "    my_index = symbols.tolist().index(i)\n",
    "    data = []\n",
    "    ticker = yf.Ticker(i)\n",
    "    history_i = ticker.history(start='1991-01-01', end='2021-01-01')\n",
    "    daily_return_i = history_i['Close'].pct_change(1).dropna()\n",
    "    mean_return_i = daily_return_i.mean()\n",
    "    sector_i = df[\"Sector\"][my_index]\n",
    "    data.append(i)\n",
    "    data.append(mean_return_i)\n",
    "    data.append(sector_i)\n",
    "    print(data)"
   ]
  },
  {
   "cell_type": "markdown",
   "id": "1c621c7b",
   "metadata": {},
   "source": [
    "# Stock Operation Class"
   ]
  },
  {
   "cell_type": "code",
   "execution_count": 11,
   "id": "b22ca83f",
   "metadata": {},
   "outputs": [],
   "source": [
    "class Stock:\n",
    "    def __init__ (self, ticker):\n",
    "        self.ticker = ticker\n",
    "        self.industry = sp500['Sector'][sp500[sp500['Symbol'] == self.ticker].index.tolist()].tolist()[0]\n",
    "    def monthly_avg(self):\n",
    "        history = yf.Ticker(self.ticker).history(start='2000-01-01', end='2020-12-31').reset_index()\n",
    "        monthly_avg = history.groupby(pd.PeriodIndex(history['Date'], freq=\"M\"))['Close'].mean()\n",
    "        return monthly_avg\n",
    "    def plot(self):\n",
    "        data = self.monthly_avg()\n",
    "        plot = data.plot()\n",
    "    def reg_slope(self):\n",
    "        data = self.monthly_avg()\n",
    "        data = data.reset_index()\n",
    "        data['Month'] = range(1,len(data)+1)\n",
    "        X = data['Month']\n",
    "        y = data[\"Close\"]\n",
    "        model = sm.OLS(y, X).fit()\n",
    "        predictions = model.predict(X)\n",
    "        slope = model.params.values\n",
    "        return slope\n",
    "    def price_change(self):\n",
    "        data = pd.DataFrame(self.monthly_avg())\n",
    "        data = data.reset_index()\n",
    "        begin = data['Close'][data[data['Date'] == '2000-01'].index.tolist()].tolist()\n",
    "        end = data['Close'][data[data['Date'] == '2020-12'].index.tolist()].tolist()\n",
    "        price_change = (((end[0]-begin[0]))/begin[0])\n",
    "        return price_change\n",
    "    def market_cap(self):\n",
    "        history = yf.Ticker(self.ticker).history(start='2000-01-01', end='2020-12-31').reset_index()\n",
    "        volume = history.groupby(pd.PeriodIndex(history['Date'], freq=\"M\"))['Volume'].mean()\n",
    "        price = self.monthly_avg()\n",
    "        df_v = pd.DataFrame(volume)\n",
    "        df_p = pd.DataFrame(price)\n",
    "        market_cap = pd.concat([df_p, df_v], axis=1)\n",
    "        market_cap['Market_Cap'] = market_cap['Volume'] * market_cap['Close']\n",
    "        market_cap.columns = ([self.ticker + '_' + 'Price'] , [self.ticker + '_' + 'Volume'] , [self.ticker + '_' + 'Market_Cap'])\n",
    "        return market_cap"
   ]
  },
  {
   "cell_type": "code",
   "execution_count": 12,
   "id": "53bbdc1a",
   "metadata": {},
   "outputs": [],
   "source": [
    "AMT = Stock('AMT')"
   ]
  },
  {
   "cell_type": "code",
   "execution_count": 13,
   "id": "a26dcc00",
   "metadata": {},
   "outputs": [],
   "source": [
    "a = AMT.monthly_avg()"
   ]
  },
  {
   "cell_type": "code",
   "execution_count": 14,
   "id": "c964a737",
   "metadata": {},
   "outputs": [],
   "source": [
    "a = pd.DataFrame(a)"
   ]
  },
  {
   "cell_type": "code",
   "execution_count": 15,
   "id": "da31c623",
   "metadata": {},
   "outputs": [],
   "source": [
    "a.columns=(['AMT'])"
   ]
  },
  {
   "cell_type": "code",
   "execution_count": 16,
   "id": "cf5c3c86",
   "metadata": {},
   "outputs": [
    {
     "data": {
      "text/html": [
       "<div>\n",
       "<style scoped>\n",
       "    .dataframe tbody tr th:only-of-type {\n",
       "        vertical-align: middle;\n",
       "    }\n",
       "\n",
       "    .dataframe tbody tr th {\n",
       "        vertical-align: top;\n",
       "    }\n",
       "\n",
       "    .dataframe thead th {\n",
       "        text-align: right;\n",
       "    }\n",
       "</style>\n",
       "<table border=\"1\" class=\"dataframe\">\n",
       "  <thead>\n",
       "    <tr style=\"text-align: right;\">\n",
       "      <th></th>\n",
       "      <th>AMT</th>\n",
       "    </tr>\n",
       "    <tr>\n",
       "      <th>Date</th>\n",
       "      <th></th>\n",
       "    </tr>\n",
       "  </thead>\n",
       "  <tbody>\n",
       "    <tr>\n",
       "      <th>2000-01</th>\n",
       "      <td>30.404594</td>\n",
       "    </tr>\n",
       "    <tr>\n",
       "      <th>2000-02</th>\n",
       "      <td>35.784533</td>\n",
       "    </tr>\n",
       "    <tr>\n",
       "      <th>2000-03</th>\n",
       "      <td>42.031285</td>\n",
       "    </tr>\n",
       "    <tr>\n",
       "      <th>2000-04</th>\n",
       "      <td>37.344010</td>\n",
       "    </tr>\n",
       "    <tr>\n",
       "      <th>2000-05</th>\n",
       "      <td>35.084686</td>\n",
       "    </tr>\n",
       "    <tr>\n",
       "      <th>...</th>\n",
       "      <td>...</td>\n",
       "    </tr>\n",
       "    <tr>\n",
       "      <th>2020-08</th>\n",
       "      <td>244.665739</td>\n",
       "    </tr>\n",
       "    <tr>\n",
       "      <th>2020-09</th>\n",
       "      <td>241.617465</td>\n",
       "    </tr>\n",
       "    <tr>\n",
       "      <th>2020-10</th>\n",
       "      <td>234.881796</td>\n",
       "    </tr>\n",
       "    <tr>\n",
       "      <th>2020-11</th>\n",
       "      <td>231.240077</td>\n",
       "    </tr>\n",
       "    <tr>\n",
       "      <th>2020-12</th>\n",
       "      <td>217.803724</td>\n",
       "    </tr>\n",
       "  </tbody>\n",
       "</table>\n",
       "<p>252 rows × 1 columns</p>\n",
       "</div>"
      ],
      "text/plain": [
       "                AMT\n",
       "Date               \n",
       "2000-01   30.404594\n",
       "2000-02   35.784533\n",
       "2000-03   42.031285\n",
       "2000-04   37.344010\n",
       "2000-05   35.084686\n",
       "...             ...\n",
       "2020-08  244.665739\n",
       "2020-09  241.617465\n",
       "2020-10  234.881796\n",
       "2020-11  231.240077\n",
       "2020-12  217.803724\n",
       "\n",
       "[252 rows x 1 columns]"
      ]
     },
     "execution_count": 16,
     "metadata": {},
     "output_type": "execute_result"
    }
   ],
   "source": [
    "a"
   ]
  },
  {
   "cell_type": "markdown",
   "id": "752e4e3c",
   "metadata": {},
   "source": [
    "# S&P Operation Class"
   ]
  },
  {
   "cell_type": "code",
   "execution_count": 17,
   "id": "d767190b",
   "metadata": {},
   "outputs": [],
   "source": [
    "class SP500_Operation:\n",
    "    def __init__ (self, df):\n",
    "        self.df = df\n",
    "    def stock_industry_price_change(self):\n",
    "        data = []\n",
    "        for i in tickers[:10]:\n",
    "            try:\n",
    "                stock = Stock(i)\n",
    "                data.append((stock.ticker,stock.industry,stock.price_change()))\n",
    "            except:\n",
    "                pass\n",
    "        stock_industry_price_change = pd.DataFrame(data)\n",
    "        stock_industry_price_change.columns = ['Symbol', 'Industry','Price_Change']\n",
    "        return stock_industry_price_change\n",
    "    def stocks_and_returns_in_industry(self, industry):\n",
    "        df = self.stock_industry_price_change()\n",
    "        data = df[df['Industry']== industry]\n",
    "        return data\n",
    "    def industry_index(self, industry):\n",
    "        A = Industry_Operation(df_industry)\n",
    "        industry_market_cap, names, df = A.total_market_cap(industry)\n",
    "        weight = A.stock_weight_in_industry(industry)\n",
    "        data = pd.DataFrame()\n",
    "        for i in names: \n",
    "            stock = Stock(i)\n",
    "            price = stock.monthly_avg()\n",
    "            price = pd.DataFrame(price)\n",
    "            price.columns = ([i])\n",
    "            data[i] = price\n",
    "        #b = data.mul(weight, fill_value=0) \n",
    "        return weight\n",
    "    def top_stocks_in_industry(self, industry, number_stocks=0):\n",
    "        df = self.stocks_and_returns_in_industry(industry)\n",
    "        top_price_change = df.nlargest(number_stocks,'Price_Change')\n",
    "        return top_price_change"
   ]
  },
  {
   "cell_type": "code",
   "execution_count": 18,
   "id": "376cf625",
   "metadata": {},
   "outputs": [],
   "source": [
    "SP500 = SP500_Operation(sp500)"
   ]
  },
  {
   "cell_type": "code",
   "execution_count": 19,
   "id": "cab06883",
   "metadata": {
    "tags": []
   },
   "outputs": [
    {
     "ename": "NameError",
     "evalue": "name 'Industry_Operation' is not defined",
     "output_type": "error",
     "traceback": [
      "\u001b[0;31m---------------------------------------------------------------------------\u001b[0m",
      "\u001b[0;31mNameError\u001b[0m                                 Traceback (most recent call last)",
      "\u001b[0;32m/var/folders/d5/gxwrskh555z93r8slq5n8jh80000gn/T/ipykernel_25924/1963602027.py\u001b[0m in \u001b[0;36m<module>\u001b[0;34m\u001b[0m\n\u001b[0;32m----> 1\u001b[0;31m \u001b[0mSP500\u001b[0m\u001b[0;34m.\u001b[0m\u001b[0mindustry_index\u001b[0m\u001b[0;34m(\u001b[0m\u001b[0;34m'Real Estate'\u001b[0m\u001b[0;34m)\u001b[0m\u001b[0;34m\u001b[0m\u001b[0;34m\u001b[0m\u001b[0m\n\u001b[0m",
      "\u001b[0;32m/var/folders/d5/gxwrskh555z93r8slq5n8jh80000gn/T/ipykernel_25924/530696804.py\u001b[0m in \u001b[0;36mindustry_index\u001b[0;34m(self, industry)\u001b[0m\n\u001b[1;32m     18\u001b[0m         \u001b[0;32mreturn\u001b[0m \u001b[0mdata\u001b[0m\u001b[0;34m\u001b[0m\u001b[0;34m\u001b[0m\u001b[0m\n\u001b[1;32m     19\u001b[0m     \u001b[0;32mdef\u001b[0m \u001b[0mindustry_index\u001b[0m\u001b[0;34m(\u001b[0m\u001b[0mself\u001b[0m\u001b[0;34m,\u001b[0m \u001b[0mindustry\u001b[0m\u001b[0;34m)\u001b[0m\u001b[0;34m:\u001b[0m\u001b[0;34m\u001b[0m\u001b[0;34m\u001b[0m\u001b[0m\n\u001b[0;32m---> 20\u001b[0;31m         \u001b[0mA\u001b[0m \u001b[0;34m=\u001b[0m \u001b[0mIndustry_Operation\u001b[0m\u001b[0;34m(\u001b[0m\u001b[0mdf_industry\u001b[0m\u001b[0;34m)\u001b[0m\u001b[0;34m\u001b[0m\u001b[0;34m\u001b[0m\u001b[0m\n\u001b[0m\u001b[1;32m     21\u001b[0m         \u001b[0mindustry_market_cap\u001b[0m\u001b[0;34m,\u001b[0m \u001b[0mnames\u001b[0m\u001b[0;34m,\u001b[0m \u001b[0mdf\u001b[0m \u001b[0;34m=\u001b[0m \u001b[0mA\u001b[0m\u001b[0;34m.\u001b[0m\u001b[0mtotal_market_cap\u001b[0m\u001b[0;34m(\u001b[0m\u001b[0mindustry\u001b[0m\u001b[0;34m)\u001b[0m\u001b[0;34m\u001b[0m\u001b[0;34m\u001b[0m\u001b[0m\n\u001b[1;32m     22\u001b[0m         \u001b[0mweight\u001b[0m \u001b[0;34m=\u001b[0m \u001b[0mA\u001b[0m\u001b[0;34m.\u001b[0m\u001b[0mstock_weight_in_industry\u001b[0m\u001b[0;34m(\u001b[0m\u001b[0mindustry\u001b[0m\u001b[0;34m)\u001b[0m\u001b[0;34m\u001b[0m\u001b[0;34m\u001b[0m\u001b[0m\n",
      "\u001b[0;31mNameError\u001b[0m: name 'Industry_Operation' is not defined"
     ]
    }
   ],
   "source": [
    "SP500.industry_index('Real Estate')"
   ]
  },
  {
   "cell_type": "markdown",
   "id": "eaaca04c",
   "metadata": {},
   "source": [
    "# Industry Operation Class"
   ]
  },
  {
   "cell_type": "code",
   "execution_count": 20,
   "id": "a91e5ef4",
   "metadata": {},
   "outputs": [],
   "source": [
    "class Industry_Operation:\n",
    "    def __init__ (self, df):\n",
    "        self.df = df\n",
    "    def total_market_cap(self, industry):\n",
    "        stocks = sp500['Symbol'][sp500['Sector'] == industry]\n",
    "        aapl = Stock('AAPL')\n",
    "        df = pd.DataFrame(aapl.monthly_avg()).drop(['Close'], axis=1) \n",
    "        df.reset_index()\n",
    "        data = pd.DataFrame()\n",
    "        for i in stocks:\n",
    "            stock = Stock(i)\n",
    "            a = stock.market_cap()\n",
    "            b = a.iloc[:,[2]]\n",
    "            df = df.merge(b, how='left', on='Date')\n",
    "            df = df.dropna(axis=1)\n",
    "            data[industry + ' ' + 'Total Market Cap'] = df.sum(axis=1, numeric_only=True)\n",
    "        industry_market_cap = pd.DataFrame(data[industry + ' ' + 'Total Market Cap'])\n",
    "        columns_names = df.columns\n",
    "        names = []\n",
    "        for item in columns_names:\n",
    "            name = item[0]\n",
    "            tickername = name.split('_')[0]\n",
    "            names.append(tickername)\n",
    "        return industry_market_cap, names, df\n",
    "    def stock_weight_in_industry(self, industry):\n",
    "        industry_market_cap, names, df = self.total_market_cap(industry)\n",
    "        weight = df.div(industry_market_cap.iloc[:,0], axis=0)\n",
    "        return weight"
   ]
  },
  {
   "cell_type": "markdown",
   "id": "38c2fac0",
   "metadata": {},
   "source": [
    "# CAPM "
   ]
  },
  {
   "cell_type": "markdown",
   "id": "d7da923e",
   "metadata": {},
   "source": [
    " \n",
    "\\begin{aligned} &E[R_i] - R_f  = \\beta_i ( E[R_m] - R_f ) \\\\ \\\\ &\\textbf{where:} \\\\ &ER_i = \\text{expected return of stock i} \\\\ &R_f = \\text{risk-free rate} \\\\ &\\beta_i = \\text{beta of the stock} \\\\ &ER_m - R_f = \\text{market risk premium} \\\\ \\end{aligned} \n"
   ]
  },
  {
   "cell_type": "code",
   "execution_count": 21,
   "id": "35aa0ed9",
   "metadata": {},
   "outputs": [],
   "source": [
    "class CAPM:\n",
    "    def __init__(self,stock,industry):\n",
    "        self.stock = stock\n",
    "        self.industry = industry\n",
    "    def CAPM_stock_industry(self, stock):\n",
    "        #this is stock monthly percent change\n",
    "        s = Stock(stock)\n",
    "        a = s.monthly_avg()\n",
    "        a = pd.DataFrame(a)\n",
    "        a.columns=([stock])\n",
    "        pch = a.pct_change()\n",
    "        return pch\n",
    "        \n",
    "    def CAPM_industry_market(self, industry):\n",
    "        #implement\n",
    "        pass\n",
    "    def beta_sensitivity_stock_industry(self):\n",
    "        #implement\n",
    "        pass\n",
    "    def beta_sensitivity_industry_market(self):\n",
    "        #implement\n",
    "        pass\n",
    "    def beta_sensitivity(self, x, y):\n",
    "        beta_sensitivity_list = []\n",
    "        for i in range(len(x)):\n",
    "            dropped_x_val = x[i]\n",
    "            dropped_y_val = y[i]\n",
    "            \n",
    "            dropped_x = np.delete(y, i).reshape(-1,1)\n",
    "            dropped_y = np.delete(y, i).reshape(-1,1)\n",
    "            \n",
    "            a = np.reshape(dropped_x, (dropped_x.shape[0], 1))\n",
    "            b = np.reshape(dropped_y, (dropped_y.shape[0], 1))\n",
    "            \n",
    "            beta = np.multiply(np.reciprocal(np.dot(a.T, a)), np.dot(a.T, b))\n",
    "            beta_i = beta[0][0]\n",
    "            beta_sensitivity_list.append(([i, dropped_y_val], beta_i))\n",
    "        return beta_sensitivity_list"
   ]
  },
  {
   "cell_type": "code",
   "execution_count": 22,
   "id": "cbc72b6c",
   "metadata": {},
   "outputs": [
    {
     "data": {
      "text/html": [
       "<div>\n",
       "<style scoped>\n",
       "    .dataframe tbody tr th:only-of-type {\n",
       "        vertical-align: middle;\n",
       "    }\n",
       "\n",
       "    .dataframe tbody tr th {\n",
       "        vertical-align: top;\n",
       "    }\n",
       "\n",
       "    .dataframe thead th {\n",
       "        text-align: right;\n",
       "    }\n",
       "</style>\n",
       "<table border=\"1\" class=\"dataframe\">\n",
       "  <thead>\n",
       "    <tr style=\"text-align: right;\">\n",
       "      <th></th>\n",
       "      <th>AAPL</th>\n",
       "    </tr>\n",
       "    <tr>\n",
       "      <th>Date</th>\n",
       "      <th></th>\n",
       "    </tr>\n",
       "  </thead>\n",
       "  <tbody>\n",
       "    <tr>\n",
       "      <th>2000-01</th>\n",
       "      <td>NaN</td>\n",
       "    </tr>\n",
       "    <tr>\n",
       "      <th>2000-02</th>\n",
       "      <td>0.080098</td>\n",
       "    </tr>\n",
       "    <tr>\n",
       "      <th>2000-03</th>\n",
       "      <td>0.151063</td>\n",
       "    </tr>\n",
       "    <tr>\n",
       "      <th>2000-04</th>\n",
       "      <td>-0.042003</td>\n",
       "    </tr>\n",
       "    <tr>\n",
       "      <th>2000-05</th>\n",
       "      <td>-0.181104</td>\n",
       "    </tr>\n",
       "    <tr>\n",
       "      <th>...</th>\n",
       "      <td>...</td>\n",
       "    </tr>\n",
       "    <tr>\n",
       "      <th>2020-08</th>\n",
       "      <td>0.229234</td>\n",
       "    </tr>\n",
       "    <tr>\n",
       "      <th>2020-09</th>\n",
       "      <td>-0.018221</td>\n",
       "    </tr>\n",
       "    <tr>\n",
       "      <th>2020-10</th>\n",
       "      <td>0.011187</td>\n",
       "    </tr>\n",
       "    <tr>\n",
       "      <th>2020-11</th>\n",
       "      <td>0.004942</td>\n",
       "    </tr>\n",
       "    <tr>\n",
       "      <th>2020-12</th>\n",
       "      <td>0.087735</td>\n",
       "    </tr>\n",
       "  </tbody>\n",
       "</table>\n",
       "<p>252 rows × 1 columns</p>\n",
       "</div>"
      ],
      "text/plain": [
       "             AAPL\n",
       "Date             \n",
       "2000-01       NaN\n",
       "2000-02  0.080098\n",
       "2000-03  0.151063\n",
       "2000-04 -0.042003\n",
       "2000-05 -0.181104\n",
       "...           ...\n",
       "2020-08  0.229234\n",
       "2020-09 -0.018221\n",
       "2020-10  0.011187\n",
       "2020-11  0.004942\n",
       "2020-12  0.087735\n",
       "\n",
       "[252 rows x 1 columns]"
      ]
     },
     "execution_count": 22,
     "metadata": {},
     "output_type": "execute_result"
    }
   ],
   "source": [
    "test1 = CAPM('AAPL','Technology')\n",
    "test1.CAPM_stock_industry(test1.stock)"
   ]
  },
  {
   "cell_type": "markdown",
   "id": "e8c26a8a",
   "metadata": {},
   "source": [
    "# CAPM # Test Area 🎲🎲🎲"
   ]
  },
  {
   "cell_type": "markdown",
   "id": "98f5d025",
   "metadata": {},
   "source": [
    "### Get the correlation among selected stocks"
   ]
  },
  {
   "cell_type": "code",
   "execution_count": 469,
   "id": "2e926c85",
   "metadata": {},
   "outputs": [],
   "source": [
    "top_return_symbols = top_price_change['Symbol']"
   ]
  },
  {
   "cell_type": "code",
   "execution_count": 473,
   "id": "3761ee50",
   "metadata": {},
   "outputs": [
    {
     "data": {
      "text/html": [
       "<div>\n",
       "<style scoped>\n",
       "    .dataframe tbody tr th:only-of-type {\n",
       "        vertical-align: middle;\n",
       "    }\n",
       "\n",
       "    .dataframe tbody tr th {\n",
       "        vertical-align: top;\n",
       "    }\n",
       "\n",
       "    .dataframe thead th {\n",
       "        text-align: right;\n",
       "    }\n",
       "</style>\n",
       "<table border=\"1\" class=\"dataframe\">\n",
       "  <thead>\n",
       "    <tr style=\"text-align: right;\">\n",
       "      <th></th>\n",
       "      <th>MMM</th>\n",
       "      <th>ABT</th>\n",
       "      <th>AOS</th>\n",
       "      <th>ADBE</th>\n",
       "      <th>ATVI</th>\n",
       "    </tr>\n",
       "  </thead>\n",
       "  <tbody>\n",
       "    <tr>\n",
       "      <th>MMM</th>\n",
       "      <td>1.000000</td>\n",
       "      <td>0.849360</td>\n",
       "      <td>0.983290</td>\n",
       "      <td>0.769558</td>\n",
       "      <td>0.919592</td>\n",
       "    </tr>\n",
       "    <tr>\n",
       "      <th>ABT</th>\n",
       "      <td>0.849360</td>\n",
       "      <td>1.000000</td>\n",
       "      <td>0.875211</td>\n",
       "      <td>0.969427</td>\n",
       "      <td>0.919668</td>\n",
       "    </tr>\n",
       "    <tr>\n",
       "      <th>AOS</th>\n",
       "      <td>0.983290</td>\n",
       "      <td>0.875211</td>\n",
       "      <td>1.000000</td>\n",
       "      <td>0.818619</td>\n",
       "      <td>0.953318</td>\n",
       "    </tr>\n",
       "    <tr>\n",
       "      <th>ADBE</th>\n",
       "      <td>0.769558</td>\n",
       "      <td>0.969427</td>\n",
       "      <td>0.818619</td>\n",
       "      <td>1.000000</td>\n",
       "      <td>0.910988</td>\n",
       "    </tr>\n",
       "    <tr>\n",
       "      <th>ATVI</th>\n",
       "      <td>0.919592</td>\n",
       "      <td>0.919668</td>\n",
       "      <td>0.953318</td>\n",
       "      <td>0.910988</td>\n",
       "      <td>1.000000</td>\n",
       "    </tr>\n",
       "  </tbody>\n",
       "</table>\n",
       "</div>"
      ],
      "text/plain": [
       "           MMM       ABT       AOS      ADBE      ATVI\n",
       "MMM   1.000000  0.849360  0.983290  0.769558  0.919592\n",
       "ABT   0.849360  1.000000  0.875211  0.969427  0.919668\n",
       "AOS   0.983290  0.875211  1.000000  0.818619  0.953318\n",
       "ADBE  0.769558  0.969427  0.818619  1.000000  0.910988\n",
       "ATVI  0.919592  0.919668  0.953318  0.910988  1.000000"
      ]
     },
     "execution_count": 473,
     "metadata": {},
     "output_type": "execute_result"
    }
   ],
   "source": [
    "# Setting the index column for other dataframe to concat\n",
    "aapl = Stock('AAPL')\n",
    "top_stock_monthly_avg = pd.DataFrame(aapl.monthly_avg()).drop(['Close'], axis=1) \n",
    "# Generating the monthly average stock price for the top stocks in one dataframe\n",
    "for i in top_return_symbols:\n",
    "    stock = Stock(i)\n",
    "    stock_i_monthly_avg = pd.DataFrame(stock.monthly_avg())\n",
    "    stock_i_monthly_avg.columns=([i])\n",
    "    top_stock_monthly_avg = pd.concat([stock_i_monthly_avg,top_stock_monthly_avg], axis=1)\n",
    "    \n",
    "stock_corr = top_stock_monthly_avg.corr() \n",
    "stock_corr"
   ]
  },
  {
   "cell_type": "code",
   "execution_count": 420,
   "id": "c9e221a0",
   "metadata": {},
   "outputs": [],
   "source": [
    "aapl = Stock('AAPL')\n",
    "data = aapl.monthly_avg()\n",
    "#aapl = pd.DataFrame(data)"
   ]
  },
  {
   "cell_type": "code",
   "execution_count": 457,
   "id": "09c45f4e",
   "metadata": {},
   "outputs": [
    {
     "data": {
      "text/html": [
       "<div>\n",
       "<style scoped>\n",
       "    .dataframe tbody tr th:only-of-type {\n",
       "        vertical-align: middle;\n",
       "    }\n",
       "\n",
       "    .dataframe tbody tr th {\n",
       "        vertical-align: top;\n",
       "    }\n",
       "\n",
       "    .dataframe thead th {\n",
       "        text-align: right;\n",
       "    }\n",
       "</style>\n",
       "<table border=\"1\" class=\"dataframe\">\n",
       "  <thead>\n",
       "    <tr style=\"text-align: right;\">\n",
       "      <th></th>\n",
       "      <th>Close</th>\n",
       "    </tr>\n",
       "    <tr>\n",
       "      <th>Date</th>\n",
       "      <th></th>\n",
       "    </tr>\n",
       "  </thead>\n",
       "  <tbody>\n",
       "    <tr>\n",
       "      <th>2000-01</th>\n",
       "      <td>8.914329</td>\n",
       "    </tr>\n",
       "    <tr>\n",
       "      <th>2000-02</th>\n",
       "      <td>9.112125</td>\n",
       "    </tr>\n",
       "    <tr>\n",
       "      <th>2000-03</th>\n",
       "      <td>8.911923</td>\n",
       "    </tr>\n",
       "    <tr>\n",
       "      <th>2000-04</th>\n",
       "      <td>10.401491</td>\n",
       "    </tr>\n",
       "    <tr>\n",
       "      <th>2000-05</th>\n",
       "      <td>10.793253</td>\n",
       "    </tr>\n",
       "    <tr>\n",
       "      <th>...</th>\n",
       "      <td>...</td>\n",
       "    </tr>\n",
       "    <tr>\n",
       "      <th>2020-08</th>\n",
       "      <td>100.550693</td>\n",
       "    </tr>\n",
       "    <tr>\n",
       "      <th>2020-09</th>\n",
       "      <td>103.330695</td>\n",
       "    </tr>\n",
       "    <tr>\n",
       "      <th>2020-10</th>\n",
       "      <td>106.110295</td>\n",
       "    </tr>\n",
       "    <tr>\n",
       "      <th>2020-11</th>\n",
       "      <td>108.888888</td>\n",
       "    </tr>\n",
       "    <tr>\n",
       "      <th>2020-12</th>\n",
       "      <td>106.152814</td>\n",
       "    </tr>\n",
       "  </tbody>\n",
       "</table>\n",
       "<p>252 rows × 1 columns</p>\n",
       "</div>"
      ],
      "text/plain": [
       "              Close\n",
       "Date               \n",
       "2000-01    8.914329\n",
       "2000-02    9.112125\n",
       "2000-03    8.911923\n",
       "2000-04   10.401491\n",
       "2000-05   10.793253\n",
       "...             ...\n",
       "2020-08  100.550693\n",
       "2020-09  103.330695\n",
       "2020-10  106.110295\n",
       "2020-11  108.888888\n",
       "2020-12  106.152814\n",
       "\n",
       "[252 rows x 1 columns]"
      ]
     },
     "execution_count": 457,
     "metadata": {},
     "output_type": "execute_result"
    }
   ],
   "source": [
    "abt = Stock('ABT')\n",
    "df = pd.DataFrame(abt.monthly_avg()).columns=(['ABT'])\n",
    "df"
   ]
  },
  {
   "cell_type": "code",
   "execution_count": 389,
   "id": "0fcade30",
   "metadata": {},
   "outputs": [],
   "source": [
    "mmm = Stock('MMM')\n",
    "data = mmm.monthly_avg()\n",
    "#mmm = pd.DataFrame(data)"
   ]
  },
  {
   "cell_type": "code",
   "execution_count": 396,
   "id": "3f54367a",
   "metadata": {},
   "outputs": [],
   "source": [
    "data = pd.concat([aapl, mmm], axis=1)"
   ]
  },
  {
   "cell_type": "code",
   "execution_count": 397,
   "id": "c2d43f3c",
   "metadata": {},
   "outputs": [
    {
     "data": {
      "text/html": [
       "<div>\n",
       "<style scoped>\n",
       "    .dataframe tbody tr th:only-of-type {\n",
       "        vertical-align: middle;\n",
       "    }\n",
       "\n",
       "    .dataframe tbody tr th {\n",
       "        vertical-align: top;\n",
       "    }\n",
       "\n",
       "    .dataframe thead th {\n",
       "        text-align: right;\n",
       "    }\n",
       "</style>\n",
       "<table border=\"1\" class=\"dataframe\">\n",
       "  <thead>\n",
       "    <tr style=\"text-align: right;\">\n",
       "      <th></th>\n",
       "      <th>AAPL</th>\n",
       "      <th>MMM</th>\n",
       "    </tr>\n",
       "  </thead>\n",
       "  <tbody>\n",
       "    <tr>\n",
       "      <th>AAPL</th>\n",
       "      <td>1.000000</td>\n",
       "      <td>0.799666</td>\n",
       "    </tr>\n",
       "    <tr>\n",
       "      <th>MMM</th>\n",
       "      <td>0.799666</td>\n",
       "      <td>1.000000</td>\n",
       "    </tr>\n",
       "  </tbody>\n",
       "</table>\n",
       "</div>"
      ],
      "text/plain": [
       "          AAPL       MMM\n",
       "AAPL  1.000000  0.799666\n",
       "MMM   0.799666  1.000000"
      ]
     },
     "execution_count": 397,
     "metadata": {},
     "output_type": "execute_result"
    }
   ],
   "source": [
    "data.corr()"
   ]
  },
  {
   "cell_type": "code",
   "execution_count": 412,
   "id": "c874323d",
   "metadata": {},
   "outputs": [
    {
     "data": {
      "text/html": [
       "<div>\n",
       "<style scoped>\n",
       "    .dataframe tbody tr th:only-of-type {\n",
       "        vertical-align: middle;\n",
       "    }\n",
       "\n",
       "    .dataframe tbody tr th {\n",
       "        vertical-align: top;\n",
       "    }\n",
       "\n",
       "    .dataframe thead th {\n",
       "        text-align: right;\n",
       "    }\n",
       "</style>\n",
       "<table border=\"1\" class=\"dataframe\">\n",
       "  <thead>\n",
       "    <tr style=\"text-align: right;\">\n",
       "      <th></th>\n",
       "      <th>AAPL</th>\n",
       "    </tr>\n",
       "    <tr>\n",
       "      <th>Date</th>\n",
       "      <th></th>\n",
       "    </tr>\n",
       "  </thead>\n",
       "  <tbody>\n",
       "    <tr>\n",
       "      <th>2000-01</th>\n",
       "      <td>0.791221</td>\n",
       "    </tr>\n",
       "    <tr>\n",
       "      <th>2000-02</th>\n",
       "      <td>0.854596</td>\n",
       "    </tr>\n",
       "    <tr>\n",
       "      <th>2000-03</th>\n",
       "      <td>0.983694</td>\n",
       "    </tr>\n",
       "    <tr>\n",
       "      <th>2000-04</th>\n",
       "      <td>0.942376</td>\n",
       "    </tr>\n",
       "    <tr>\n",
       "      <th>2000-05</th>\n",
       "      <td>0.771708</td>\n",
       "    </tr>\n",
       "    <tr>\n",
       "      <th>...</th>\n",
       "      <td>...</td>\n",
       "    </tr>\n",
       "    <tr>\n",
       "      <th>2020-08</th>\n",
       "      <td>116.342647</td>\n",
       "    </tr>\n",
       "    <tr>\n",
       "      <th>2020-09</th>\n",
       "      <td>114.222799</td>\n",
       "    </tr>\n",
       "    <tr>\n",
       "      <th>2020-10</th>\n",
       "      <td>115.500651</td>\n",
       "    </tr>\n",
       "    <tr>\n",
       "      <th>2020-11</th>\n",
       "      <td>116.071418</td>\n",
       "    </tr>\n",
       "    <tr>\n",
       "      <th>2020-12</th>\n",
       "      <td>126.510547</td>\n",
       "    </tr>\n",
       "  </tbody>\n",
       "</table>\n",
       "<p>252 rows × 1 columns</p>\n",
       "</div>"
      ],
      "text/plain": [
       "               AAPL\n",
       "Date               \n",
       "2000-01    0.791221\n",
       "2000-02    0.854596\n",
       "2000-03    0.983694\n",
       "2000-04    0.942376\n",
       "2000-05    0.771708\n",
       "...             ...\n",
       "2020-08  116.342647\n",
       "2020-09  114.222799\n",
       "2020-10  115.500651\n",
       "2020-11  116.071418\n",
       "2020-12  126.510547\n",
       "\n",
       "[252 rows x 1 columns]"
      ]
     },
     "execution_count": 412,
     "metadata": {},
     "output_type": "execute_result"
    }
   ],
   "source": [
    "aapl"
   ]
  },
  {
   "cell_type": "code",
   "execution_count": 415,
   "id": "36280645",
   "metadata": {},
   "outputs": [
    {
     "data": {
      "text/html": [
       "<div>\n",
       "<style scoped>\n",
       "    .dataframe tbody tr th:only-of-type {\n",
       "        vertical-align: middle;\n",
       "    }\n",
       "\n",
       "    .dataframe tbody tr th {\n",
       "        vertical-align: top;\n",
       "    }\n",
       "\n",
       "    .dataframe thead th {\n",
       "        text-align: right;\n",
       "    }\n",
       "</style>\n",
       "<table border=\"1\" class=\"dataframe\">\n",
       "  <thead>\n",
       "    <tr style=\"text-align: right;\">\n",
       "      <th></th>\n",
       "    </tr>\n",
       "    <tr>\n",
       "      <th>Date</th>\n",
       "    </tr>\n",
       "  </thead>\n",
       "  <tbody>\n",
       "    <tr>\n",
       "      <th>2000-01</th>\n",
       "    </tr>\n",
       "    <tr>\n",
       "      <th>2000-02</th>\n",
       "    </tr>\n",
       "    <tr>\n",
       "      <th>2000-03</th>\n",
       "    </tr>\n",
       "    <tr>\n",
       "      <th>2000-04</th>\n",
       "    </tr>\n",
       "    <tr>\n",
       "      <th>2000-05</th>\n",
       "    </tr>\n",
       "    <tr>\n",
       "      <th>...</th>\n",
       "    </tr>\n",
       "    <tr>\n",
       "      <th>2020-08</th>\n",
       "    </tr>\n",
       "    <tr>\n",
       "      <th>2020-09</th>\n",
       "    </tr>\n",
       "    <tr>\n",
       "      <th>2020-10</th>\n",
       "    </tr>\n",
       "    <tr>\n",
       "      <th>2020-11</th>\n",
       "    </tr>\n",
       "    <tr>\n",
       "      <th>2020-12</th>\n",
       "    </tr>\n",
       "  </tbody>\n",
       "</table>\n",
       "<p>252 rows × 0 columns</p>\n",
       "</div>"
      ],
      "text/plain": [
       "Empty DataFrame\n",
       "Columns: []\n",
       "Index: [2000-01, 2000-02, 2000-03, 2000-04, 2000-05, 2000-06, 2000-07, 2000-08, 2000-09, 2000-10, 2000-11, 2000-12, 2001-01, 2001-02, 2001-03, 2001-04, 2001-05, 2001-06, 2001-07, 2001-08, 2001-09, 2001-10, 2001-11, 2001-12, 2002-01, 2002-02, 2002-03, 2002-04, 2002-05, 2002-06, 2002-07, 2002-08, 2002-09, 2002-10, 2002-11, 2002-12, 2003-01, 2003-02, 2003-03, 2003-04, 2003-05, 2003-06, 2003-07, 2003-08, 2003-09, 2003-10, 2003-11, 2003-12, 2004-01, 2004-02, 2004-03, 2004-04, 2004-05, 2004-06, 2004-07, 2004-08, 2004-09, 2004-10, 2004-11, 2004-12, 2005-01, 2005-02, 2005-03, 2005-04, 2005-05, 2005-06, 2005-07, 2005-08, 2005-09, 2005-10, 2005-11, 2005-12, 2006-01, 2006-02, 2006-03, 2006-04, 2006-05, 2006-06, 2006-07, 2006-08, 2006-09, 2006-10, 2006-11, 2006-12, 2007-01, 2007-02, 2007-03, 2007-04, 2007-05, 2007-06, 2007-07, 2007-08, 2007-09, 2007-10, 2007-11, 2007-12, 2008-01, 2008-02, 2008-03, 2008-04, ...]\n",
       "\n",
       "[252 rows x 0 columns]"
      ]
     },
     "execution_count": 415,
     "metadata": {},
     "output_type": "execute_result"
    }
   ],
   "source": [
    "aapl.drop(['AAPL'],axis=1)"
   ]
  },
  {
   "cell_type": "markdown",
   "id": "6e9dfdab",
   "metadata": {},
   "source": [
    "# Tasks to be done (this is written before thanskgiving)"
   ]
  },
  {
   "cell_type": "markdown",
   "id": "b5ae1fc4",
   "metadata": {},
   "source": [
    "1. Write instructions on how to use each class and functions -- Bruce\n",
    "2. Finish def industry_index in SP500 Operation Class -- Kathy \n",
    "   Get top industies. Get top stocks in the top industries. \n",
    "3. Finish the CAPM Class -- Joseph \n",
    "   Get the beta of the selected stocks (beta bw this stock and its inline industry). Get the beta of the selected industries (bw the market). We need SP500 index numbers (proly in yf)\n",
    "   Demo:\n",
    "       def CAPM_stock_industry(self, stock)\n",
    "           i = Stock(stock)\n",
    "           industry = i.industry \n",
    "       def CAPM_industry_market(self, industry)\n",
    "       def sensitivity_stock_industry\n",
    "       def sensitivity_industry_market \n",
    "4. Unittest -- Kathy \n",
    "5. Regression on the stock and the industry (we look for R^2, which explains how much of the stock price chance is contributed by the price change of the industry) (this concept is similar with beta) -- Bruce\n",
    "6. Sharpe Ratio of the portfolio -- Bruce\n",
    "7. Portfolio return graph -- Bruce "
   ]
  },
  {
   "cell_type": "markdown",
   "id": "980dd51b",
   "metadata": {},
   "source": [
    "## Code part DONE by 26th Nov. "
   ]
  },
  {
   "cell_type": "markdown",
   "id": "809cf21c",
   "metadata": {},
   "source": [
    "# Paper!!!!!!!"
   ]
  },
  {
   "cell_type": "markdown",
   "id": "bd14873c",
   "metadata": {},
   "source": [
    "### Paper DONE by Nov. 30 "
   ]
  },
  {
   "cell_type": "markdown",
   "id": "41499a54",
   "metadata": {},
   "source": [
    "# PPT by Dec. 1"
   ]
  },
  {
   "cell_type": "code",
   "execution_count": null,
   "id": "061832b1",
   "metadata": {},
   "outputs": [],
   "source": []
  }
 ],
 "metadata": {
  "kernelspec": {
   "display_name": "Python 3 (ipykernel)",
   "language": "python",
   "name": "python3"
  },
  "language_info": {
   "codemirror_mode": {
    "name": "ipython",
    "version": 3
   },
   "file_extension": ".py",
   "mimetype": "text/x-python",
   "name": "python",
   "nbconvert_exporter": "python",
   "pygments_lexer": "ipython3",
   "version": "3.8.5"
  }
 },
 "nbformat": 4,
 "nbformat_minor": 5
}
